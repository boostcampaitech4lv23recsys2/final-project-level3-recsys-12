{
 "cells": [
  {
   "cell_type": "code",
   "execution_count": 1,
   "metadata": {},
   "outputs": [],
   "source": [
    "import pandas as pd\n",
    "from sklearn.model_selection import train_test_split\n",
    "from sklearn.tree import DecisionTreeClassifier, DecisionTreeRegressor"
   ]
  },
  {
   "cell_type": "code",
   "execution_count": 2,
   "metadata": {},
   "outputs": [
    {
     "name": "stderr",
     "output_type": "stream",
     "text": [
      "/tmp/ipykernel_64346/991992001.py:1: DtypeWarning: Columns (2) have mixed types. Specify dtype option on import or set low_memory=False.\n",
      "  item = pd.read_csv(\"../crawling/output/item.tsv\", sep=\"\\t\")\n"
     ]
    }
   ],
   "source": [
    "item = pd.read_csv(\"../crawling/output/item.tsv\", sep=\"\\t\")"
   ]
  },
  {
   "cell_type": "code",
   "execution_count": 3,
   "metadata": {},
   "outputs": [
    {
     "data": {
      "text/html": [
       "<div>\n",
       "<style scoped>\n",
       "    .dataframe tbody tr th:only-of-type {\n",
       "        vertical-align: middle;\n",
       "    }\n",
       "\n",
       "    .dataframe tbody tr th {\n",
       "        vertical-align: top;\n",
       "    }\n",
       "\n",
       "    .dataframe thead th {\n",
       "        text-align: right;\n",
       "    }\n",
       "</style>\n",
       "<table border=\"1\" class=\"dataframe\">\n",
       "  <thead>\n",
       "    <tr style=\"text-align: right;\">\n",
       "      <th></th>\n",
       "      <th>item</th>\n",
       "      <th>category</th>\n",
       "      <th>rating</th>\n",
       "      <th>review</th>\n",
       "      <th>price</th>\n",
       "      <th>title</th>\n",
       "      <th>seller</th>\n",
       "      <th>discount_rate</th>\n",
       "      <th>image</th>\n",
       "      <th>available_product</th>\n",
       "      <th>predict_price</th>\n",
       "      <th>preprocessed_title</th>\n",
       "      <th>similarity_list</th>\n",
       "      <th>cluster_id</th>\n",
       "    </tr>\n",
       "  </thead>\n",
       "  <tbody>\n",
       "    <tr>\n",
       "      <th>0</th>\n",
       "      <td>1</td>\n",
       "      <td>가구|서랍·수납장|수납장</td>\n",
       "      <td>4.2</td>\n",
       "      <td>67</td>\n",
       "      <td>NaN</td>\n",
       "      <td>66808</td>\n",
       "      <td>DRAWER</td>\n",
       "      <td>NaN</td>\n",
       "      <td>https://image.ohou.se/i/bucketplace-v2-develop...</td>\n",
       "      <td>미입점</td>\n",
       "      <td>정보없음</td>\n",
       "      <td>66808</td>\n",
       "      <td>[]</td>\n",
       "      <td>8840</td>\n",
       "    </tr>\n",
       "  </tbody>\n",
       "</table>\n",
       "</div>"
      ],
      "text/plain": [
       "   item       category rating  review price  title   seller discount_rate  \\\n",
       "0     1  가구|서랍·수납장|수납장    4.2      67   NaN  66808  DRAWER            NaN   \n",
       "\n",
       "                                               image available_product  \\\n",
       "0  https://image.ohou.se/i/bucketplace-v2-develop...               미입점   \n",
       "\n",
       "  predict_price preprocessed_title similarity_list  cluster_id  \n",
       "0          정보없음              66808              []        8840  "
      ]
     },
     "execution_count": 3,
     "metadata": {},
     "output_type": "execute_result"
    }
   ],
   "source": [
    "item.head(1)"
   ]
  },
  {
   "cell_type": "code",
   "execution_count": 4,
   "metadata": {},
   "outputs": [],
   "source": [
    "item.category.fillna(\"|\", inplace=True)"
   ]
  },
  {
   "cell_type": "code",
   "execution_count": 5,
   "metadata": {},
   "outputs": [],
   "source": [
    "a = []\n",
    "for i in item.category.unique():\n",
    "    a.extend(i.split(\"|\"))\n",
    "num_cat_multihot = len(set(a))"
   ]
  },
  {
   "cell_type": "code",
   "execution_count": 6,
   "metadata": {},
   "outputs": [
    {
     "data": {
      "text/plain": [
       "524"
      ]
     },
     "execution_count": 6,
     "metadata": {},
     "output_type": "execute_result"
    }
   ],
   "source": [
    "num_cat_multihot"
   ]
  },
  {
   "cell_type": "code",
   "execution_count": 7,
   "metadata": {},
   "outputs": [],
   "source": [
    "word2id = {w:i for i, w in enumerate(sorted(list(set(a))))}\n",
    "category_string2cat_id = {cstr:cid for cstr, cid in zip(item.category, item.item)}\n",
    "item_id2cat_id = {iid:category_string2cat_id[c] for iid, c in zip(item.item, item.category)}"
   ]
  },
  {
   "cell_type": "code",
   "execution_count": 8,
   "metadata": {},
   "outputs": [
    {
     "data": {
      "text/plain": [
       "13"
      ]
     },
     "execution_count": 8,
     "metadata": {},
     "output_type": "execute_result"
    }
   ],
   "source": [
    "word2id[\"LED거실등\"]"
   ]
  },
  {
   "cell_type": "code",
   "execution_count": 9,
   "metadata": {},
   "outputs": [
    {
     "data": {
      "text/plain": [
       "1814996"
      ]
     },
     "execution_count": 9,
     "metadata": {},
     "output_type": "execute_result"
    }
   ],
   "source": [
    "category_string2cat_id['가구|서랍·수납장|수납장']"
   ]
  },
  {
   "cell_type": "code",
   "execution_count": 10,
   "metadata": {},
   "outputs": [
    {
     "data": {
      "text/plain": [
       "1814996"
      ]
     },
     "execution_count": 10,
     "metadata": {},
     "output_type": "execute_result"
    }
   ],
   "source": [
    "item_id2cat_id[1]"
   ]
  },
  {
   "cell_type": "code",
   "execution_count": 11,
   "metadata": {},
   "outputs": [],
   "source": [
    "import torch\n",
    "\n",
    "cat_id2multihot = dict()\n",
    "for c in sorted(item.category.unique()):\n",
    "    dummy = torch.zeros(size=(num_cat_multihot,))\n",
    "    word_ids = []\n",
    "    for w in c.split(\"|\"):\n",
    "        word_ids.append(word2id[w])\n",
    "    dummy[word_ids] = 1\n",
    "    cat_id2multihot[category_string2cat_id[c]] = dummy.long().tolist()"
   ]
  },
  {
   "cell_type": "code",
   "execution_count": 12,
   "metadata": {},
   "outputs": [
    {
     "data": {
      "text/plain": [
       "array([      1,       4,       8, ..., 1826870, 1827273, 1827297])"
      ]
     },
     "execution_count": 12,
     "metadata": {},
     "output_type": "execute_result"
    }
   ],
   "source": [
    "item.item.unique()"
   ]
  },
  {
   "cell_type": "code",
   "execution_count": null,
   "metadata": {},
   "outputs": [],
   "source": [
    "cat_id2multihot[item_id2cat_id[1826870]]"
   ]
  },
  {
   "cell_type": "code",
   "execution_count": 14,
   "metadata": {},
   "outputs": [],
   "source": [
    "# category multi-hot\n",
    "item[\"category_multihot\"] = item.item.apply(lambda x:cat_id2multihot[item_id2cat_id[x]])"
   ]
  },
  {
   "cell_type": "code",
   "execution_count": 15,
   "metadata": {},
   "outputs": [
    {
     "name": "stdout",
     "output_type": "stream",
     "text": [
      "   item          category                                  category_multihot\n",
      "0     1     가구|서랍·수납장|수납장  [0, 0, 0, 0, 0, 0, 0, 0, 0, 0, 0, 0, 0, 0, 0, ...\n",
      "1     4      데코·식물|시계|벽시계  [0, 0, 0, 0, 0, 0, 0, 0, 0, 0, 0, 0, 0, 0, 0, ...\n",
      "2     8  가구|거실장·TV장|일반거실장  [0, 0, 0, 0, 0, 0, 0, 0, 0, 0, 0, 0, 0, 0, 0, ...\n",
      "3     9       가구|의자|스툴·벤치  [0, 0, 0, 0, 0, 0, 0, 0, 0, 0, 0, 0, 0, 0, 0, ...\n",
      "4    10   가구|화장대·콘솔|일반화장대  [0, 0, 0, 0, 0, 0, 0, 0, 0, 0, 0, 0, 0, 0, 0, ...\n"
     ]
    }
   ],
   "source": [
    "print(item.head(5)[[\"item\", \"category\", \"category_multihot\"]])"
   ]
  },
  {
   "cell_type": "code",
   "execution_count": 16,
   "metadata": {},
   "outputs": [
    {
     "name": "stderr",
     "output_type": "stream",
     "text": [
      "0it [00:00, ?it/s]\n",
      "0it [00:00, ?it/s]\n"
     ]
    }
   ],
   "source": [
    "import pandas as pd\n",
    "import numpy as np\n",
    "from tqdm import tqdm\n",
    "tqdm(tqdm())\n",
    "\n",
    "new_df = item[\"category_multihot\"].apply(pd.Series)"
   ]
  },
  {
   "cell_type": "code",
   "execution_count": 17,
   "metadata": {},
   "outputs": [],
   "source": [
    "item_ = item[:]\n",
    "item = item_[:]"
   ]
  },
  {
   "cell_type": "code",
   "execution_count": 18,
   "metadata": {},
   "outputs": [],
   "source": [
    "final_df = pd.concat([item, new_df], axis=1)\n",
    "item = final_df.drop([\"category_multihot\"], axis=1)"
   ]
  },
  {
   "cell_type": "code",
   "execution_count": 19,
   "metadata": {},
   "outputs": [
    {
     "data": {
      "text/html": [
       "<div>\n",
       "<style scoped>\n",
       "    .dataframe tbody tr th:only-of-type {\n",
       "        vertical-align: middle;\n",
       "    }\n",
       "\n",
       "    .dataframe tbody tr th {\n",
       "        vertical-align: top;\n",
       "    }\n",
       "\n",
       "    .dataframe thead th {\n",
       "        text-align: right;\n",
       "    }\n",
       "</style>\n",
       "<table border=\"1\" class=\"dataframe\">\n",
       "  <thead>\n",
       "    <tr style=\"text-align: right;\">\n",
       "      <th></th>\n",
       "      <th>item</th>\n",
       "      <th>category</th>\n",
       "      <th>rating</th>\n",
       "      <th>review</th>\n",
       "      <th>price</th>\n",
       "      <th>title</th>\n",
       "      <th>seller</th>\n",
       "      <th>discount_rate</th>\n",
       "      <th>image</th>\n",
       "      <th>available_product</th>\n",
       "      <th>...</th>\n",
       "      <th>514</th>\n",
       "      <th>515</th>\n",
       "      <th>516</th>\n",
       "      <th>517</th>\n",
       "      <th>518</th>\n",
       "      <th>519</th>\n",
       "      <th>520</th>\n",
       "      <th>521</th>\n",
       "      <th>522</th>\n",
       "      <th>523</th>\n",
       "    </tr>\n",
       "  </thead>\n",
       "  <tbody>\n",
       "    <tr>\n",
       "      <th>0</th>\n",
       "      <td>1</td>\n",
       "      <td>가구|서랍·수납장|수납장</td>\n",
       "      <td>4.2</td>\n",
       "      <td>67</td>\n",
       "      <td>NaN</td>\n",
       "      <td>66808</td>\n",
       "      <td>DRAWER</td>\n",
       "      <td>NaN</td>\n",
       "      <td>https://image.ohou.se/i/bucketplace-v2-develop...</td>\n",
       "      <td>미입점</td>\n",
       "      <td>...</td>\n",
       "      <td>0</td>\n",
       "      <td>0</td>\n",
       "      <td>0</td>\n",
       "      <td>0</td>\n",
       "      <td>0</td>\n",
       "      <td>0</td>\n",
       "      <td>0</td>\n",
       "      <td>0</td>\n",
       "      <td>0</td>\n",
       "      <td>0</td>\n",
       "    </tr>\n",
       "  </tbody>\n",
       "</table>\n",
       "<p>1 rows × 538 columns</p>\n",
       "</div>"
      ],
      "text/plain": [
       "   item       category rating  review price  title   seller discount_rate  \\\n",
       "0     1  가구|서랍·수납장|수납장    4.2      67   NaN  66808  DRAWER            NaN   \n",
       "\n",
       "                                               image available_product  ...  \\\n",
       "0  https://image.ohou.se/i/bucketplace-v2-develop...               미입점  ...   \n",
       "\n",
       "  514 515 516  517  518  519  520  521  522  523  \n",
       "0   0   0   0    0    0    0    0    0    0    0  \n",
       "\n",
       "[1 rows x 538 columns]"
      ]
     },
     "execution_count": 19,
     "metadata": {},
     "output_type": "execute_result"
    }
   ],
   "source": [
    "item.head(1)"
   ]
  },
  {
   "cell_type": "code",
   "execution_count": 20,
   "metadata": {},
   "outputs": [],
   "source": [
    "item.seller = item.seller.apply(lambda x: x.lower())"
   ]
  },
  {
   "cell_type": "code",
   "execution_count": 21,
   "metadata": {},
   "outputs": [
    {
     "data": {
      "text/html": [
       "<div>\n",
       "<style scoped>\n",
       "    .dataframe tbody tr th:only-of-type {\n",
       "        vertical-align: middle;\n",
       "    }\n",
       "\n",
       "    .dataframe tbody tr th {\n",
       "        vertical-align: top;\n",
       "    }\n",
       "\n",
       "    .dataframe thead th {\n",
       "        text-align: right;\n",
       "    }\n",
       "</style>\n",
       "<table border=\"1\" class=\"dataframe\">\n",
       "  <thead>\n",
       "    <tr style=\"text-align: right;\">\n",
       "      <th></th>\n",
       "      <th>item</th>\n",
       "      <th>category</th>\n",
       "      <th>rating</th>\n",
       "      <th>review</th>\n",
       "      <th>price</th>\n",
       "      <th>title</th>\n",
       "      <th>seller</th>\n",
       "      <th>discount_rate</th>\n",
       "      <th>image</th>\n",
       "      <th>available_product</th>\n",
       "      <th>...</th>\n",
       "      <th>514</th>\n",
       "      <th>515</th>\n",
       "      <th>516</th>\n",
       "      <th>517</th>\n",
       "      <th>518</th>\n",
       "      <th>519</th>\n",
       "      <th>520</th>\n",
       "      <th>521</th>\n",
       "      <th>522</th>\n",
       "      <th>523</th>\n",
       "    </tr>\n",
       "  </thead>\n",
       "  <tbody>\n",
       "    <tr>\n",
       "      <th>0</th>\n",
       "      <td>1</td>\n",
       "      <td>가구|서랍·수납장|수납장</td>\n",
       "      <td>4.2</td>\n",
       "      <td>67</td>\n",
       "      <td>NaN</td>\n",
       "      <td>66808</td>\n",
       "      <td>drawer</td>\n",
       "      <td>NaN</td>\n",
       "      <td>https://image.ohou.se/i/bucketplace-v2-develop...</td>\n",
       "      <td>미입점</td>\n",
       "      <td>...</td>\n",
       "      <td>0</td>\n",
       "      <td>0</td>\n",
       "      <td>0</td>\n",
       "      <td>0</td>\n",
       "      <td>0</td>\n",
       "      <td>0</td>\n",
       "      <td>0</td>\n",
       "      <td>0</td>\n",
       "      <td>0</td>\n",
       "      <td>0</td>\n",
       "    </tr>\n",
       "  </tbody>\n",
       "</table>\n",
       "<p>1 rows × 538 columns</p>\n",
       "</div>"
      ],
      "text/plain": [
       "   item       category rating  review price  title   seller discount_rate  \\\n",
       "0     1  가구|서랍·수납장|수납장    4.2      67   NaN  66808  drawer            NaN   \n",
       "\n",
       "                                               image available_product  ...  \\\n",
       "0  https://image.ohou.se/i/bucketplace-v2-develop...               미입점  ...   \n",
       "\n",
       "  514 515 516  517  518  519  520  521  522  523  \n",
       "0   0   0   0    0    0    0    0    0    0    0  \n",
       "\n",
       "[1 rows x 538 columns]"
      ]
     },
     "execution_count": 21,
     "metadata": {},
     "output_type": "execute_result"
    }
   ],
   "source": [
    "item.head(1)"
   ]
  },
  {
   "cell_type": "code",
   "execution_count": 22,
   "metadata": {},
   "outputs": [
    {
     "data": {
      "text/plain": [
       "12052"
      ]
     },
     "execution_count": 22,
     "metadata": {},
     "output_type": "execute_result"
    }
   ],
   "source": [
    "item.seller.nunique()"
   ]
  },
  {
   "cell_type": "code",
   "execution_count": 23,
   "metadata": {},
   "outputs": [],
   "source": [
    "item = pd.concat([item, pd.get_dummies(item.seller)], axis=1)"
   ]
  },
  {
   "cell_type": "code",
   "execution_count": 24,
   "metadata": {},
   "outputs": [
    {
     "data": {
      "text/plain": [
       "88935"
      ]
     },
     "execution_count": 24,
     "metadata": {},
     "output_type": "execute_result"
    }
   ],
   "source": [
    "len(item)"
   ]
  },
  {
   "cell_type": "code",
   "execution_count": 25,
   "metadata": {},
   "outputs": [
    {
     "data": {
      "text/html": [
       "<div>\n",
       "<style scoped>\n",
       "    .dataframe tbody tr th:only-of-type {\n",
       "        vertical-align: middle;\n",
       "    }\n",
       "\n",
       "    .dataframe tbody tr th {\n",
       "        vertical-align: top;\n",
       "    }\n",
       "\n",
       "    .dataframe thead th {\n",
       "        text-align: right;\n",
       "    }\n",
       "</style>\n",
       "<table border=\"1\" class=\"dataframe\">\n",
       "  <thead>\n",
       "    <tr style=\"text-align: right;\">\n",
       "      <th></th>\n",
       "      <th>item</th>\n",
       "      <th>category</th>\n",
       "      <th>rating</th>\n",
       "      <th>review</th>\n",
       "      <th>price</th>\n",
       "      <th>title</th>\n",
       "      <th>seller</th>\n",
       "      <th>discount_rate</th>\n",
       "      <th>image</th>\n",
       "      <th>available_product</th>\n",
       "      <th>...</th>\n",
       "      <th>히프노스</th>\n",
       "      <th>힌토</th>\n",
       "      <th>힐링가구</th>\n",
       "      <th>힐링쉴드</th>\n",
       "      <th>힐링조명</th>\n",
       "      <th>힐링팟</th>\n",
       "      <th>힐포레스트</th>\n",
       "      <th>힘찬리빙</th>\n",
       "      <th>힘펠</th>\n",
       "      <th>힙쉬</th>\n",
       "    </tr>\n",
       "  </thead>\n",
       "  <tbody>\n",
       "    <tr>\n",
       "      <th>0</th>\n",
       "      <td>1</td>\n",
       "      <td>가구|서랍·수납장|수납장</td>\n",
       "      <td>4.2</td>\n",
       "      <td>67</td>\n",
       "      <td>NaN</td>\n",
       "      <td>66808</td>\n",
       "      <td>drawer</td>\n",
       "      <td>NaN</td>\n",
       "      <td>https://image.ohou.se/i/bucketplace-v2-develop...</td>\n",
       "      <td>미입점</td>\n",
       "      <td>...</td>\n",
       "      <td>0</td>\n",
       "      <td>0</td>\n",
       "      <td>0</td>\n",
       "      <td>0</td>\n",
       "      <td>0</td>\n",
       "      <td>0</td>\n",
       "      <td>0</td>\n",
       "      <td>0</td>\n",
       "      <td>0</td>\n",
       "      <td>0</td>\n",
       "    </tr>\n",
       "  </tbody>\n",
       "</table>\n",
       "<p>1 rows × 12590 columns</p>\n",
       "</div>"
      ],
      "text/plain": [
       "   item       category rating  review price  title   seller discount_rate  \\\n",
       "0     1  가구|서랍·수납장|수납장    4.2      67   NaN  66808  drawer            NaN   \n",
       "\n",
       "                                               image available_product  ...  \\\n",
       "0  https://image.ohou.se/i/bucketplace-v2-develop...               미입점  ...   \n",
       "\n",
       "  히프노스  힌토  힐링가구   힐링쉴드   힐링조명   힐링팟   힐포레스트   힘찬리빙   힘펠   힙쉬   \n",
       "0     0   0     0      0      0     0       0      0    0    0  \n",
       "\n",
       "[1 rows x 12590 columns]"
      ]
     },
     "execution_count": 25,
     "metadata": {},
     "output_type": "execute_result"
    }
   ],
   "source": [
    "item.head(1)"
   ]
  },
  {
   "cell_type": "code",
   "execution_count": 26,
   "metadata": {},
   "outputs": [
    {
     "data": {
      "text/plain": [
       "49618"
      ]
     },
     "execution_count": 26,
     "metadata": {},
     "output_type": "execute_result"
    }
   ],
   "source": [
    "item.price.isna().sum()"
   ]
  },
  {
   "cell_type": "code",
   "execution_count": 29,
   "metadata": {},
   "outputs": [
    {
     "data": {
      "text/html": [
       "<div>\n",
       "<style scoped>\n",
       "    .dataframe tbody tr th:only-of-type {\n",
       "        vertical-align: middle;\n",
       "    }\n",
       "\n",
       "    .dataframe tbody tr th {\n",
       "        vertical-align: top;\n",
       "    }\n",
       "\n",
       "    .dataframe thead th {\n",
       "        text-align: right;\n",
       "    }\n",
       "</style>\n",
       "<table border=\"1\" class=\"dataframe\">\n",
       "  <thead>\n",
       "    <tr style=\"text-align: right;\">\n",
       "      <th></th>\n",
       "      <th>item</th>\n",
       "      <th>category</th>\n",
       "      <th>rating</th>\n",
       "      <th>review</th>\n",
       "      <th>price</th>\n",
       "      <th>title</th>\n",
       "      <th>seller</th>\n",
       "      <th>discount_rate</th>\n",
       "      <th>image</th>\n",
       "      <th>available_product</th>\n",
       "      <th>...</th>\n",
       "      <th>히프노스</th>\n",
       "      <th>힌토</th>\n",
       "      <th>힐링가구</th>\n",
       "      <th>힐링쉴드</th>\n",
       "      <th>힐링조명</th>\n",
       "      <th>힐링팟</th>\n",
       "      <th>힐포레스트</th>\n",
       "      <th>힘찬리빙</th>\n",
       "      <th>힘펠</th>\n",
       "      <th>힙쉬</th>\n",
       "    </tr>\n",
       "  </thead>\n",
       "  <tbody>\n",
       "    <tr>\n",
       "      <th>0</th>\n",
       "      <td>1</td>\n",
       "      <td>가구|서랍·수납장|수납장</td>\n",
       "      <td>4.2</td>\n",
       "      <td>67</td>\n",
       "      <td>NaN</td>\n",
       "      <td>66808</td>\n",
       "      <td>drawer</td>\n",
       "      <td>NaN</td>\n",
       "      <td>https://image.ohou.se/i/bucketplace-v2-develop...</td>\n",
       "      <td>미입점</td>\n",
       "      <td>...</td>\n",
       "      <td>0</td>\n",
       "      <td>0</td>\n",
       "      <td>0</td>\n",
       "      <td>0</td>\n",
       "      <td>0</td>\n",
       "      <td>0</td>\n",
       "      <td>0</td>\n",
       "      <td>0</td>\n",
       "      <td>0</td>\n",
       "      <td>0</td>\n",
       "    </tr>\n",
       "  </tbody>\n",
       "</table>\n",
       "<p>1 rows × 12590 columns</p>\n",
       "</div>"
      ],
      "text/plain": [
       "   item       category rating  review price  title   seller discount_rate  \\\n",
       "0     1  가구|서랍·수납장|수납장    4.2      67   NaN  66808  drawer            NaN   \n",
       "\n",
       "                                               image available_product  ...  \\\n",
       "0  https://image.ohou.se/i/bucketplace-v2-develop...               미입점  ...   \n",
       "\n",
       "  히프노스  힌토  힐링가구   힐링쉴드   힐링조명   힐링팟   힐포레스트   힘찬리빙   힘펠   힙쉬   \n",
       "0     0   0     0      0      0     0       0      0    0    0  \n",
       "\n",
       "[1 rows x 12590 columns]"
      ]
     },
     "execution_count": 29,
     "metadata": {},
     "output_type": "execute_result"
    }
   ],
   "source": [
    "item.head(1)"
   ]
  },
  {
   "cell_type": "code",
   "execution_count": 30,
   "metadata": {},
   "outputs": [],
   "source": [
    "# TODO: category multi-hot과 seller one-hot으로 결정트리하기\n",
    "# label은 cluster_id"
   ]
  },
  {
   "cell_type": "code",
   "execution_count": 31,
   "metadata": {},
   "outputs": [
    {
     "data": {
      "text/html": [
       "<div>\n",
       "<style scoped>\n",
       "    .dataframe tbody tr th:only-of-type {\n",
       "        vertical-align: middle;\n",
       "    }\n",
       "\n",
       "    .dataframe tbody tr th {\n",
       "        vertical-align: top;\n",
       "    }\n",
       "\n",
       "    .dataframe thead th {\n",
       "        text-align: right;\n",
       "    }\n",
       "</style>\n",
       "<table border=\"1\" class=\"dataframe\">\n",
       "  <thead>\n",
       "    <tr style=\"text-align: right;\">\n",
       "      <th></th>\n",
       "      <th>item</th>\n",
       "      <th>category</th>\n",
       "      <th>rating</th>\n",
       "      <th>review</th>\n",
       "      <th>price</th>\n",
       "      <th>title</th>\n",
       "      <th>seller</th>\n",
       "      <th>discount_rate</th>\n",
       "      <th>image</th>\n",
       "      <th>available_product</th>\n",
       "      <th>...</th>\n",
       "      <th>히프노스</th>\n",
       "      <th>힌토</th>\n",
       "      <th>힐링가구</th>\n",
       "      <th>힐링쉴드</th>\n",
       "      <th>힐링조명</th>\n",
       "      <th>힐링팟</th>\n",
       "      <th>힐포레스트</th>\n",
       "      <th>힘찬리빙</th>\n",
       "      <th>힘펠</th>\n",
       "      <th>힙쉬</th>\n",
       "    </tr>\n",
       "  </thead>\n",
       "  <tbody>\n",
       "    <tr>\n",
       "      <th>0</th>\n",
       "      <td>1</td>\n",
       "      <td>가구|서랍·수납장|수납장</td>\n",
       "      <td>4.2</td>\n",
       "      <td>67</td>\n",
       "      <td>NaN</td>\n",
       "      <td>66808</td>\n",
       "      <td>drawer</td>\n",
       "      <td>NaN</td>\n",
       "      <td>https://image.ohou.se/i/bucketplace-v2-develop...</td>\n",
       "      <td>미입점</td>\n",
       "      <td>...</td>\n",
       "      <td>0</td>\n",
       "      <td>0</td>\n",
       "      <td>0</td>\n",
       "      <td>0</td>\n",
       "      <td>0</td>\n",
       "      <td>0</td>\n",
       "      <td>0</td>\n",
       "      <td>0</td>\n",
       "      <td>0</td>\n",
       "      <td>0</td>\n",
       "    </tr>\n",
       "  </tbody>\n",
       "</table>\n",
       "<p>1 rows × 12590 columns</p>\n",
       "</div>"
      ],
      "text/plain": [
       "   item       category rating  review price  title   seller discount_rate  \\\n",
       "0     1  가구|서랍·수납장|수납장    4.2      67   NaN  66808  drawer            NaN   \n",
       "\n",
       "                                               image available_product  ...  \\\n",
       "0  https://image.ohou.se/i/bucketplace-v2-develop...               미입점  ...   \n",
       "\n",
       "  히프노스  힌토  힐링가구   힐링쉴드   힐링조명   힐링팟   힐포레스트   힘찬리빙   힘펠   힙쉬   \n",
       "0     0   0     0      0      0     0       0      0    0    0  \n",
       "\n",
       "[1 rows x 12590 columns]"
      ]
     },
     "execution_count": 31,
     "metadata": {},
     "output_type": "execute_result"
    }
   ],
   "source": [
    "item.head(1)"
   ]
  },
  {
   "cell_type": "code",
   "execution_count": 32,
   "metadata": {},
   "outputs": [
    {
     "data": {
      "text/plain": [
       "Index([             'item',          'category',            'rating',\n",
       "                  'review',             'price',             'title',\n",
       "                  'seller',     'discount_rate',             'image',\n",
       "       'available_product',\n",
       "       ...\n",
       "                   '히프노스 ',               '힌토 ',             '힐링가구 ',\n",
       "                   '힐링쉴드 ',             '힐링조명 ',              '힐링팟 ',\n",
       "                  '힐포레스트 ',             '힘찬리빙 ',               '힘펠 ',\n",
       "                     '힙쉬 '],\n",
       "      dtype='object', length=12590)"
      ]
     },
     "execution_count": 32,
     "metadata": {},
     "output_type": "execute_result"
    }
   ],
   "source": [
    "item.columns"
   ]
  },
  {
   "cell_type": "code",
   "execution_count": 33,
   "metadata": {},
   "outputs": [],
   "source": [
    "item__ = item.drop(columns=[\"item\", \"category\", \"rating\", \"review\", \"price\", \"title\", \"seller\", \"discount_rate\", \"image\", \"available_product\", \"predict_price\", \"preprocessed_title\", \"similarity_list\"])"
   ]
  },
  {
   "cell_type": "code",
   "execution_count": 34,
   "metadata": {},
   "outputs": [],
   "source": [
    "item__.columns = item__.columns.astype(str)"
   ]
  },
  {
   "cell_type": "code",
   "execution_count": 35,
   "metadata": {},
   "outputs": [],
   "source": [
    "grp1 = item__.groupby(\"cluster_id\").filter(lambda x: len(x) >= 3)[:-1]\n",
    "grp2 = item__.groupby(\"cluster_id\").filter(lambda x: len(x) >= 3)[1:]"
   ]
  },
  {
   "cell_type": "code",
   "execution_count": 36,
   "metadata": {},
   "outputs": [],
   "source": [
    "grp1 = grp1.groupby(\"cluster_id\")\n",
    "grp2 = grp2.groupby(\"cluster_id\")"
   ]
  },
  {
   "cell_type": "code",
   "execution_count": 37,
   "metadata": {},
   "outputs": [],
   "source": [
    "import torch\n",
    "import torch.nn as nn\n",
    "import torch.optim as optim\n",
    "\n",
    "class Autoencoder(nn.Module):\n",
    "    def __init__(self, input_dim, encoding_dim):\n",
    "        super(Autoencoder, self).__init__()\n",
    "        self.encoder = nn.Linear(input_dim, encoding_dim)\n",
    "        self.decoder = nn.Linear(encoding_dim, input_dim)\n",
    "        \n",
    "    def forward(self, x):\n",
    "        x = self.encoder(x)\n",
    "        x = self.decoder(x)\n",
    "        return x"
   ]
  },
  {
   "cell_type": "code",
   "execution_count": 38,
   "metadata": {},
   "outputs": [
    {
     "data": {
      "text/plain": [
       "12577"
      ]
     },
     "execution_count": 38,
     "metadata": {},
     "output_type": "execute_result"
    }
   ],
   "source": [
    "len(item__.columns)"
   ]
  },
  {
   "cell_type": "code",
   "execution_count": 39,
   "metadata": {},
   "outputs": [],
   "source": [
    "npitem__ = item__.drop(columns=[\"cluster_id\"]).to_numpy()"
   ]
  },
  {
   "cell_type": "code",
   "execution_count": 40,
   "metadata": {},
   "outputs": [],
   "source": [
    "data = torch.Tensor(npitem__)"
   ]
  },
  {
   "cell_type": "code",
   "execution_count": 41,
   "metadata": {},
   "outputs": [],
   "source": [
    "from torch.utils.data import Dataset, DataLoader\n",
    "\n",
    "class CustomDataset(Dataset):\n",
    "    def __init__(self, data):\n",
    "        self.data = data\n",
    "\n",
    "    def __len__(self):\n",
    "        return len(self.data)\n",
    "\n",
    "    def __getitem__(self, idx):\n",
    "        sample = self.data[idx, :]\n",
    "        return sample"
   ]
  },
  {
   "cell_type": "code",
   "execution_count": null,
   "metadata": {},
   "outputs": [],
   "source": [
    "from tqdm import tqdm\n",
    "\n",
    "input_dim = data.shape[1]\n",
    "encoding_dim = 100\n",
    "\n",
    "device = torch.device(\"cuda\" if torch.cuda.is_available() else \"cpu\")\n",
    "\n",
    "dataset = CustomDataset(data.to(device))\n",
    "\n",
    "batch_size = 2048\n",
    "data_loader = DataLoader(dataset, batch_size=batch_size, shuffle=True)\n",
    "\n",
    "model = Autoencoder(input_dim, encoding_dim).to(device)\n",
    "criterion = nn.MSELoss()\n",
    "optimizer = optim.Adam(model.parameters(), lr=0.0001)\n",
    "\n",
    "pbar = tqdm(range(1000))\n",
    "\n",
    "patience = 0\n",
    "min_loss = 999999\n",
    "for epoch in pbar:\n",
    "    losses = []\n",
    "    for i, batch in enumerate(data_loader):\n",
    "        inputs = batch\n",
    "        targets = batch\n",
    "\n",
    "        outputs = model(inputs)\n",
    "        loss = criterion(outputs, targets)\n",
    "        losses.append(loss.item())\n",
    "\n",
    "        optimizer.zero_grad()\n",
    "        loss.backward()\n",
    "        optimizer.step()\n",
    "    avg_loss = sum(losses) / len(losses)\n",
    "    if avg_loss < min_loss:\n",
    "        min_loss = avg_loss\n",
    "        torch.save(model.state_dict(), \"./best_model.pt\")\n",
    "    else:\n",
    "        patience += 1\n",
    "    pbar.set_postfix({'logging':f'Epoch [{epoch+1}/1000], Loss: {avg_loss}'})\n",
    "    if patience > 20:\n",
    "        break"
   ]
  },
  {
   "cell_type": "code",
   "execution_count": 56,
   "metadata": {},
   "outputs": [],
   "source": [
    "model = Autoencoder(input_dim, encoding_dim)\n",
    "model.load_state_dict(torch.load(\"./_best_model.pt\"))\n",
    "model.eval()\n",
    "\n",
    "rdata = model.encoder(data)\n",
    "rdata = rdata.detach().numpy()"
   ]
  },
  {
   "cell_type": "code",
   "execution_count": 57,
   "metadata": {},
   "outputs": [],
   "source": [
    "label = item__.cluster_id.to_numpy()"
   ]
  },
  {
   "cell_type": "code",
   "execution_count": 58,
   "metadata": {},
   "outputs": [
    {
     "data": {
      "text/plain": [
       "(88935,)"
      ]
     },
     "execution_count": 58,
     "metadata": {},
     "output_type": "execute_result"
    }
   ],
   "source": [
    "label.shape"
   ]
  },
  {
   "cell_type": "code",
   "execution_count": 69,
   "metadata": {},
   "outputs": [],
   "source": [
    "tmp = label[0]\n",
    "pt = []\n",
    "length = 0\n",
    "for i, l in enumerate(label[1:]):\n",
    "    if l == tmp:\n",
    "        length += 1\n",
    "    if l != tmp or i == len(label[1:]) - 1:\n",
    "        pt.append((i + 1, length))\n",
    "        length = 0\n",
    "        tmp = l"
   ]
  },
  {
   "cell_type": "code",
   "execution_count": 72,
   "metadata": {},
   "outputs": [],
   "source": [
    "groups = []\n",
    "\n",
    "for a in pt:\n",
    "    i, length = a\n",
    "    groups.append((rdata[i - 1 - length:i], label[i - 1 - length:i]))"
   ]
  },
  {
   "cell_type": "code",
   "execution_count": 136,
   "metadata": {},
   "outputs": [],
   "source": [
    "grps = []\n",
    "for g in groups:\n",
    "    if len(g[1]) >= 2:\n",
    "        grps.append(g)"
   ]
  },
  {
   "cell_type": "code",
   "execution_count": 137,
   "metadata": {},
   "outputs": [
    {
     "data": {
      "text/plain": [
       "2630"
      ]
     },
     "execution_count": 137,
     "metadata": {},
     "output_type": "execute_result"
    }
   ],
   "source": [
    "len(grps)"
   ]
  },
  {
   "cell_type": "code",
   "execution_count": 173,
   "metadata": {},
   "outputs": [],
   "source": [
    "m = []\n",
    "for g in grps:\n",
    "    m.append(len(g[1]))"
   ]
  },
  {
   "cell_type": "code",
   "execution_count": 174,
   "metadata": {},
   "outputs": [
    {
     "data": {
      "text/plain": [
       "2.284410646387833"
      ]
     },
     "execution_count": 174,
     "metadata": {},
     "output_type": "execute_result"
    }
   ],
   "source": [
    "sum(m) / len(m)"
   ]
  },
  {
   "cell_type": "code",
   "execution_count": 200,
   "metadata": {},
   "outputs": [],
   "source": [
    "grps.sort(key=lambda x:len(x[1]))"
   ]
  },
  {
   "cell_type": "code",
   "execution_count": 201,
   "metadata": {},
   "outputs": [],
   "source": [
    "grp1 = grps[:-1]\n",
    "grp2 = grps[1:]"
   ]
  },
  {
   "cell_type": "code",
   "execution_count": 241,
   "metadata": {},
   "outputs": [
    {
     "name": "stderr",
     "output_type": "stream",
     "text": [
      "2629it [00:02, 1107.53it/s]"
     ]
    },
    {
     "name": "stdout",
     "output_type": "stream",
     "text": [
      "81\n"
     ]
    },
    {
     "name": "stderr",
     "output_type": "stream",
     "text": [
      "\n"
     ]
    }
   ],
   "source": [
    "# TODO: DecisionTreeRegressor 사용\n",
    "from tqdm import tqdm\n",
    "\n",
    "tmp = list()\n",
    "\n",
    "for (X1, y1), (X2, y2) in tqdm(zip(grp1, grp2)):\n",
    "    X1_train, X1_test, y1_train, y1_test = train_test_split(X1, y1, test_size=0.2)\n",
    "    X2_train, X2_test, y2_train, y2_test = train_test_split(X2, y2, test_size=0.2)\n",
    "    \n",
    "    y1_train = [1.0] * len(y1_train)\n",
    "    y1_test = [1.0] * len(y1_test)\n",
    "    y2_train = [0.0] * len(y2_train)\n",
    "    y2_test = [0.0] * len(y2_test)\n",
    "    y1_train.extend(y2_train)\n",
    "    \n",
    "    X_train = np.concatenate((X1_train, X2_train), axis=0)\n",
    "    # X_test = np.concatenate((X1_test, X2_test), axis=0)\n",
    "    X_test = X1_test\n",
    "    y_train = y1_train[:]\n",
    "    y_test = y1_test[:]\n",
    "    \n",
    "    reg = DecisionTreeRegressor()\n",
    "    reg.fit(X_train, y_train)\n",
    "    \n",
    "    y_pred = reg.predict(X_test)\n",
    "\n",
    "    for p in y_pred:    \n",
    "        if p < 0.5:\n",
    "            # print(y_pred)\n",
    "            tmp.append((y1[0]))\n",
    "        break\n",
    "print(len(tmp))"
   ]
  },
  {
   "cell_type": "code",
   "execution_count": 242,
   "metadata": {},
   "outputs": [],
   "source": [
    "grps3 = []\n",
    "for g in groups:\n",
    "    if len(g[1]) >= 5:\n",
    "        grps3.append(g)"
   ]
  },
  {
   "cell_type": "code",
   "execution_count": 243,
   "metadata": {},
   "outputs": [
    {
     "data": {
      "text/plain": [
       "array([1039, 1039, 1039, 1039, 1039])"
      ]
     },
     "execution_count": 243,
     "metadata": {},
     "output_type": "execute_result"
    }
   ],
   "source": [
    "grps3[0][1]"
   ]
  },
  {
   "cell_type": "code",
   "execution_count": 205,
   "metadata": {},
   "outputs": [
    {
     "data": {
      "text/plain": [
       "'https://image.ohou.se/i/bucketplace-v2-development/uploads/productions/1524719742628_p.jpg?gif=1&w=480&h=480&c=c'"
      ]
     },
     "execution_count": 205,
     "metadata": {},
     "output_type": "execute_result"
    }
   ],
   "source": [
    "item[item.cluster_id == 1039].iloc[5].image"
   ]
  },
  {
   "cell_type": "code",
   "execution_count": 244,
   "metadata": {},
   "outputs": [],
   "source": [
    "checking = []\n",
    "for cluster_id in tmp:\n",
    "    checking.append(item[item.cluster_id == cluster_id])"
   ]
  },
  {
   "cell_type": "code",
   "execution_count": 257,
   "metadata": {},
   "outputs": [
    {
     "name": "stdout",
     "output_type": "stream",
     "text": [
      "https://image.ohou.se/i/bucketplace-v2-development/uploads%2Fproductions%2F1490754793_100089_1.jpg?gif=1&w=480&h=480&c=c\n",
      "https://image.ohou.se/i/bucketplace-v2-development/uploads%2Fproductions%2F1490754799_100085_1.jpg?gif=1&w=480&h=480&c=c\n",
      "https://image.ohou.se/i/bucketplace-v2-development/uploads%2Fproductions%2F1490754808_100087_1.jpg?gif=1&w=480&h=480&c=c\n",
      "https://image.ohou.se/i/bucketplace-v2-development/uploads%2Fproductions%2F1490754840_100090_1.jpg?gif=1&w=480&h=480&c=c\n",
      "https://image.ohou.se/i/bucketplace-v2-development/uploads%2Fproductions%2F1490754850_100086_1.jpg?gif=1&w=480&h=480&c=c\n"
     ]
    }
   ],
   "source": [
    "for i in range(len(checking[75])):\n",
    "    print(checking[75].iloc[i].image)"
   ]
  },
  {
   "cell_type": "code",
   "execution_count": 256,
   "metadata": {},
   "outputs": [
    {
     "data": {
      "text/html": [
       "<div>\n",
       "<style scoped>\n",
       "    .dataframe tbody tr th:only-of-type {\n",
       "        vertical-align: middle;\n",
       "    }\n",
       "\n",
       "    .dataframe tbody tr th {\n",
       "        vertical-align: top;\n",
       "    }\n",
       "\n",
       "    .dataframe thead th {\n",
       "        text-align: right;\n",
       "    }\n",
       "</style>\n",
       "<table border=\"1\" class=\"dataframe\">\n",
       "  <thead>\n",
       "    <tr style=\"text-align: right;\">\n",
       "      <th></th>\n",
       "      <th>item</th>\n",
       "      <th>category</th>\n",
       "      <th>rating</th>\n",
       "      <th>review</th>\n",
       "      <th>price</th>\n",
       "      <th>title</th>\n",
       "      <th>seller</th>\n",
       "      <th>discount_rate</th>\n",
       "      <th>image</th>\n",
       "      <th>available_product</th>\n",
       "      <th>...</th>\n",
       "      <th>히프노스</th>\n",
       "      <th>힌토</th>\n",
       "      <th>힐링가구</th>\n",
       "      <th>힐링쉴드</th>\n",
       "      <th>힐링조명</th>\n",
       "      <th>힐링팟</th>\n",
       "      <th>힐포레스트</th>\n",
       "      <th>힘찬리빙</th>\n",
       "      <th>힘펠</th>\n",
       "      <th>힙쉬</th>\n",
       "    </tr>\n",
       "  </thead>\n",
       "  <tbody>\n",
       "    <tr>\n",
       "      <th>5526</th>\n",
       "      <td>25596</td>\n",
       "      <td>가구|의자|스툴·벤치</td>\n",
       "      <td>4.6</td>\n",
       "      <td>53</td>\n",
       "      <td>137,000원</td>\n",
       "      <td>[할인쿠폰] 스카겐 데니쉬 스툴</td>\n",
       "      <td>오투가구</td>\n",
       "      <td>29%</td>\n",
       "      <td>https://image.ohou.se/i/bucketplace-v2-develop...</td>\n",
       "      <td>NaN</td>\n",
       "      <td>...</td>\n",
       "      <td>0</td>\n",
       "      <td>0</td>\n",
       "      <td>0</td>\n",
       "      <td>0</td>\n",
       "      <td>0</td>\n",
       "      <td>0</td>\n",
       "      <td>0</td>\n",
       "      <td>0</td>\n",
       "      <td>0</td>\n",
       "      <td>0</td>\n",
       "    </tr>\n",
       "    <tr>\n",
       "      <th>5527</th>\n",
       "      <td>25597</td>\n",
       "      <td>가구|의자|인테리어의자</td>\n",
       "      <td>4.4</td>\n",
       "      <td>5</td>\n",
       "      <td>165,000원</td>\n",
       "      <td>[할인쿠폰] 스카겐 데니쉬 체어</td>\n",
       "      <td>오투가구</td>\n",
       "      <td>30%</td>\n",
       "      <td>https://image.ohou.se/i/bucketplace-v2-develop...</td>\n",
       "      <td>NaN</td>\n",
       "      <td>...</td>\n",
       "      <td>0</td>\n",
       "      <td>0</td>\n",
       "      <td>0</td>\n",
       "      <td>0</td>\n",
       "      <td>0</td>\n",
       "      <td>0</td>\n",
       "      <td>0</td>\n",
       "      <td>0</td>\n",
       "      <td>0</td>\n",
       "      <td>0</td>\n",
       "    </tr>\n",
       "    <tr>\n",
       "      <th>5528</th>\n",
       "      <td>25599</td>\n",
       "      <td>가구|진열장·책장|진열장·장식장</td>\n",
       "      <td>4.3</td>\n",
       "      <td>23</td>\n",
       "      <td>632,000원</td>\n",
       "      <td>[할인쿠폰] 스카겐 데니쉬 캐비넷</td>\n",
       "      <td>오투가구</td>\n",
       "      <td>37%</td>\n",
       "      <td>https://image.ohou.se/i/bucketplace-v2-develop...</td>\n",
       "      <td>NaN</td>\n",
       "      <td>...</td>\n",
       "      <td>0</td>\n",
       "      <td>0</td>\n",
       "      <td>0</td>\n",
       "      <td>0</td>\n",
       "      <td>0</td>\n",
       "      <td>0</td>\n",
       "      <td>0</td>\n",
       "      <td>0</td>\n",
       "      <td>0</td>\n",
       "      <td>0</td>\n",
       "    </tr>\n",
       "    <tr>\n",
       "      <th>5534</th>\n",
       "      <td>25605</td>\n",
       "      <td>가구|화장대·콘솔|수납화장대</td>\n",
       "      <td>4.6</td>\n",
       "      <td>40</td>\n",
       "      <td>674,000원</td>\n",
       "      <td>[할인쿠폰] 스카겐 데니쉬 뷰로</td>\n",
       "      <td>오투가구</td>\n",
       "      <td>34%</td>\n",
       "      <td>https://image.ohou.se/i/bucketplace-v2-develop...</td>\n",
       "      <td>NaN</td>\n",
       "      <td>...</td>\n",
       "      <td>0</td>\n",
       "      <td>0</td>\n",
       "      <td>0</td>\n",
       "      <td>0</td>\n",
       "      <td>0</td>\n",
       "      <td>0</td>\n",
       "      <td>0</td>\n",
       "      <td>0</td>\n",
       "      <td>0</td>\n",
       "      <td>0</td>\n",
       "    </tr>\n",
       "    <tr>\n",
       "      <th>5536</th>\n",
       "      <td>25607</td>\n",
       "      <td>가구|화장대·콘솔|일반화장대</td>\n",
       "      <td>4.5</td>\n",
       "      <td>34</td>\n",
       "      <td>427,000원</td>\n",
       "      <td>[할인쿠폰] 스카겐 데니쉬 콘솔</td>\n",
       "      <td>오투가구</td>\n",
       "      <td>32%</td>\n",
       "      <td>https://image.ohou.se/i/bucketplace-v2-develop...</td>\n",
       "      <td>NaN</td>\n",
       "      <td>...</td>\n",
       "      <td>0</td>\n",
       "      <td>0</td>\n",
       "      <td>0</td>\n",
       "      <td>0</td>\n",
       "      <td>0</td>\n",
       "      <td>0</td>\n",
       "      <td>0</td>\n",
       "      <td>0</td>\n",
       "      <td>0</td>\n",
       "      <td>0</td>\n",
       "    </tr>\n",
       "  </tbody>\n",
       "</table>\n",
       "<p>5 rows × 12590 columns</p>\n",
       "</div>"
      ],
      "text/plain": [
       "       item           category rating  review     price               title  \\\n",
       "5526  25596        가구|의자|스툴·벤치    4.6      53  137,000원   [할인쿠폰] 스카겐 데니쉬 스툴   \n",
       "5527  25597       가구|의자|인테리어의자    4.4       5  165,000원   [할인쿠폰] 스카겐 데니쉬 체어   \n",
       "5528  25599  가구|진열장·책장|진열장·장식장    4.3      23  632,000원  [할인쿠폰] 스카겐 데니쉬 캐비넷   \n",
       "5534  25605    가구|화장대·콘솔|수납화장대    4.6      40  674,000원   [할인쿠폰] 스카겐 데니쉬 뷰로   \n",
       "5536  25607    가구|화장대·콘솔|일반화장대    4.5      34  427,000원   [할인쿠폰] 스카겐 데니쉬 콘솔   \n",
       "\n",
       "     seller discount_rate                                              image  \\\n",
       "5526  오투가구            29%  https://image.ohou.se/i/bucketplace-v2-develop...   \n",
       "5527  오투가구            30%  https://image.ohou.se/i/bucketplace-v2-develop...   \n",
       "5528  오투가구            37%  https://image.ohou.se/i/bucketplace-v2-develop...   \n",
       "5534  오투가구            34%  https://image.ohou.se/i/bucketplace-v2-develop...   \n",
       "5536  오투가구            32%  https://image.ohou.se/i/bucketplace-v2-develop...   \n",
       "\n",
       "     available_product  ... 히프노스  힌토  힐링가구   힐링쉴드   힐링조명   힐링팟   힐포레스트   \\\n",
       "5526               NaN  ...     0   0     0      0      0     0       0   \n",
       "5527               NaN  ...     0   0     0      0      0     0       0   \n",
       "5528               NaN  ...     0   0     0      0      0     0       0   \n",
       "5534               NaN  ...     0   0     0      0      0     0       0   \n",
       "5536               NaN  ...     0   0     0      0      0     0       0   \n",
       "\n",
       "      힘찬리빙   힘펠   힙쉬   \n",
       "5526      0    0    0  \n",
       "5527      0    0    0  \n",
       "5528      0    0    0  \n",
       "5534      0    0    0  \n",
       "5536      0    0    0  \n",
       "\n",
       "[5 rows x 12590 columns]"
      ]
     },
     "execution_count": 256,
     "metadata": {},
     "output_type": "execute_result"
    }
   ],
   "source": [
    "checking[75]"
   ]
  },
  {
   "cell_type": "code",
   "execution_count": null,
   "metadata": {},
   "outputs": [],
   "source": []
  }
 ],
 "metadata": {
  "kernelspec": {
   "display_name": "base",
   "language": "python",
   "name": "python3"
  },
  "language_info": {
   "codemirror_mode": {
    "name": "ipython",
    "version": 3
   },
   "file_extension": ".py",
   "mimetype": "text/x-python",
   "name": "python",
   "nbconvert_exporter": "python",
   "pygments_lexer": "ipython3",
   "version": "3.8.5"
  },
  "orig_nbformat": 4,
  "vscode": {
   "interpreter": {
    "hash": "d4d1e4263499bec80672ea0156c357c1ee493ec2b1c70f0acce89fc37c4a6abe"
   }
  }
 },
 "nbformat": 4,
 "nbformat_minor": 2
}
